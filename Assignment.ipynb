{
 "cells": [
  {
   "cell_type": "code",
   "execution_count": 126,
   "id": "44517813",
   "metadata": {},
   "outputs": [],
   "source": [
    "import pandas as pd\n",
    "import numpy as np\n",
    "from matplotlib import pyplot as plt\n",
    "import yfinance as yf\n",
    "from statsmodels.graphics.tsaplots import plot_acf, plot_pacf\n",
    "from statsmodels.tsa.arima.model import ARIMA\n",
    "from statsmodels.tsa.stattools import adfuller"
   ]
  },
  {
   "cell_type": "code",
   "execution_count": 422,
   "id": "10340c6d",
   "metadata": {},
   "outputs": [
    {
     "data": {
      "text/html": [
       "<div>\n",
       "<style scoped>\n",
       "    .dataframe tbody tr th:only-of-type {\n",
       "        vertical-align: middle;\n",
       "    }\n",
       "\n",
       "    .dataframe tbody tr th {\n",
       "        vertical-align: top;\n",
       "    }\n",
       "\n",
       "    .dataframe thead th {\n",
       "        text-align: right;\n",
       "    }\n",
       "</style>\n",
       "<table border=\"1\" class=\"dataframe\">\n",
       "  <thead>\n",
       "    <tr style=\"text-align: right;\">\n",
       "      <th></th>\n",
       "      <th>Open</th>\n",
       "      <th>High</th>\n",
       "      <th>Low</th>\n",
       "      <th>Close</th>\n",
       "      <th>Volume</th>\n",
       "      <th>Dividends</th>\n",
       "      <th>Stock Splits</th>\n",
       "    </tr>\n",
       "    <tr>\n",
       "      <th>Date</th>\n",
       "      <th></th>\n",
       "      <th></th>\n",
       "      <th></th>\n",
       "      <th></th>\n",
       "      <th></th>\n",
       "      <th></th>\n",
       "      <th></th>\n",
       "    </tr>\n",
       "  </thead>\n",
       "  <tbody>\n",
       "    <tr>\n",
       "      <th>2017-04-03 00:00:00-04:00</th>\n",
       "      <td>33.768538</td>\n",
       "      <td>33.864876</td>\n",
       "      <td>33.613452</td>\n",
       "      <td>33.766186</td>\n",
       "      <td>79942800</td>\n",
       "      <td>0.0</td>\n",
       "      <td>0.0</td>\n",
       "    </tr>\n",
       "    <tr>\n",
       "      <th>2017-04-04 00:00:00-04:00</th>\n",
       "      <td>33.660439</td>\n",
       "      <td>34.045801</td>\n",
       "      <td>33.641640</td>\n",
       "      <td>34.017605</td>\n",
       "      <td>79565600</td>\n",
       "      <td>0.0</td>\n",
       "      <td>0.0</td>\n",
       "    </tr>\n",
       "    <tr>\n",
       "      <th>2017-04-05 00:00:00-04:00</th>\n",
       "      <td>33.888380</td>\n",
       "      <td>34.179752</td>\n",
       "      <td>33.792038</td>\n",
       "      <td>33.841385</td>\n",
       "      <td>110871600</td>\n",
       "      <td>0.0</td>\n",
       "      <td>0.0</td>\n",
       "    </tr>\n",
       "    <tr>\n",
       "      <th>2017-04-06 00:00:00-04:00</th>\n",
       "      <td>33.904823</td>\n",
       "      <td>33.958870</td>\n",
       "      <td>33.707443</td>\n",
       "      <td>33.756790</td>\n",
       "      <td>84596000</td>\n",
       "      <td>0.0</td>\n",
       "      <td>0.0</td>\n",
       "    </tr>\n",
       "    <tr>\n",
       "      <th>2017-04-07 00:00:00-04:00</th>\n",
       "      <td>33.773232</td>\n",
       "      <td>33.878971</td>\n",
       "      <td>33.665145</td>\n",
       "      <td>33.681591</td>\n",
       "      <td>66688800</td>\n",
       "      <td>0.0</td>\n",
       "      <td>0.0</td>\n",
       "    </tr>\n",
       "  </tbody>\n",
       "</table>\n",
       "</div>"
      ],
      "text/plain": [
       "                                Open       High        Low      Close  \\\n",
       "Date                                                                    \n",
       "2017-04-03 00:00:00-04:00  33.768538  33.864876  33.613452  33.766186   \n",
       "2017-04-04 00:00:00-04:00  33.660439  34.045801  33.641640  34.017605   \n",
       "2017-04-05 00:00:00-04:00  33.888380  34.179752  33.792038  33.841385   \n",
       "2017-04-06 00:00:00-04:00  33.904823  33.958870  33.707443  33.756790   \n",
       "2017-04-07 00:00:00-04:00  33.773232  33.878971  33.665145  33.681591   \n",
       "\n",
       "                              Volume  Dividends  Stock Splits  \n",
       "Date                                                           \n",
       "2017-04-03 00:00:00-04:00   79942800        0.0           0.0  \n",
       "2017-04-04 00:00:00-04:00   79565600        0.0           0.0  \n",
       "2017-04-05 00:00:00-04:00  110871600        0.0           0.0  \n",
       "2017-04-06 00:00:00-04:00   84596000        0.0           0.0  \n",
       "2017-04-07 00:00:00-04:00   66688800        0.0           0.0  "
      ]
     },
     "execution_count": 422,
     "metadata": {},
     "output_type": "execute_result"
    }
   ],
   "source": [
    "tickerSymbol = 'AAPl'   #EMG.L\n",
    "tickerData = yf.Ticker(tickerSymbol)\n",
    "tickerDf = tickerData.history(period='1d',start='2017-4-1',end='2022-6-1',)\n",
    "tickerDf.head()"
   ]
  },
  {
   "cell_type": "code",
   "execution_count": null,
   "id": "00b0cbca",
   "metadata": {},
   "outputs": [],
   "source": []
  },
  {
   "cell_type": "code",
   "execution_count": null,
   "id": "99751318",
   "metadata": {},
   "outputs": [],
   "source": []
  },
  {
   "cell_type": "code",
   "execution_count": null,
   "id": "537961c1",
   "metadata": {},
   "outputs": [],
   "source": []
  },
  {
   "cell_type": "code",
   "execution_count": 423,
   "id": "b2e1eab7",
   "metadata": {},
   "outputs": [],
   "source": [
    "#tickerDfResample = pd.DataFrame(tickerDf.resample('2d').sum())\n",
    "#tickerDfResample[tickerDfResample == 0] = None\n",
    "#tickerDfResample = tickerDfResample.interpolate(method='linear')\n",
    "#tickerDfResample.index = pd.to_datetime(tickerDfResample.index, format = '%m/%d/%Y').strftime('%Y-%m-%d')\n",
    "#tickerDfResample\n",
    "tickerDfResample = tickerDf\n",
    "tickerDfResample = tickerDfResample.reset_index()"
   ]
  },
  {
   "cell_type": "code",
   "execution_count": 424,
   "id": "5e952219",
   "metadata": {},
   "outputs": [
    {
     "name": "stdout",
     "output_type": "stream",
     "text": [
      "<class 'pandas.core.frame.DataFrame'>\n",
      "RangeIndex: 1300 entries, 0 to 1299\n",
      "Data columns (total 8 columns):\n",
      " #   Column        Non-Null Count  Dtype                           \n",
      "---  ------        --------------  -----                           \n",
      " 0   Date          1300 non-null   datetime64[ns, America/New_York]\n",
      " 1   Open          1300 non-null   float64                         \n",
      " 2   High          1300 non-null   float64                         \n",
      " 3   Low           1300 non-null   float64                         \n",
      " 4   Close         1300 non-null   float64                         \n",
      " 5   Volume        1300 non-null   int64                           \n",
      " 6   Dividends     1300 non-null   float64                         \n",
      " 7   Stock Splits  1300 non-null   float64                         \n",
      "dtypes: datetime64[ns, America/New_York](1), float64(6), int64(1)\n",
      "memory usage: 81.4 KB\n"
     ]
    }
   ],
   "source": [
    "tickerDfResample.info()"
   ]
  },
  {
   "cell_type": "code",
   "execution_count": 425,
   "id": "9b962024",
   "metadata": {},
   "outputs": [
    {
     "data": {
      "text/html": [
       "<div>\n",
       "<style scoped>\n",
       "    .dataframe tbody tr th:only-of-type {\n",
       "        vertical-align: middle;\n",
       "    }\n",
       "\n",
       "    .dataframe tbody tr th {\n",
       "        vertical-align: top;\n",
       "    }\n",
       "\n",
       "    .dataframe thead th {\n",
       "        text-align: right;\n",
       "    }\n",
       "</style>\n",
       "<table border=\"1\" class=\"dataframe\">\n",
       "  <thead>\n",
       "    <tr style=\"text-align: right;\">\n",
       "      <th></th>\n",
       "      <th>Date</th>\n",
       "      <th>Open</th>\n",
       "      <th>High</th>\n",
       "      <th>Low</th>\n",
       "      <th>Close</th>\n",
       "      <th>Volume</th>\n",
       "      <th>Dividends</th>\n",
       "      <th>Stock Splits</th>\n",
       "      <th>FirstDifference</th>\n",
       "    </tr>\n",
       "  </thead>\n",
       "  <tbody>\n",
       "    <tr>\n",
       "      <th>0</th>\n",
       "      <td>2017-04-03 00:00:00-04:00</td>\n",
       "      <td>33.768538</td>\n",
       "      <td>33.864876</td>\n",
       "      <td>33.613452</td>\n",
       "      <td>33.766186</td>\n",
       "      <td>79942800</td>\n",
       "      <td>0.0</td>\n",
       "      <td>0.0</td>\n",
       "      <td>0.251419</td>\n",
       "    </tr>\n",
       "    <tr>\n",
       "      <th>1</th>\n",
       "      <td>2017-04-04 00:00:00-04:00</td>\n",
       "      <td>33.660439</td>\n",
       "      <td>34.045801</td>\n",
       "      <td>33.641640</td>\n",
       "      <td>34.017605</td>\n",
       "      <td>79565600</td>\n",
       "      <td>0.0</td>\n",
       "      <td>0.0</td>\n",
       "      <td>-0.176220</td>\n",
       "    </tr>\n",
       "    <tr>\n",
       "      <th>2</th>\n",
       "      <td>2017-04-05 00:00:00-04:00</td>\n",
       "      <td>33.888380</td>\n",
       "      <td>34.179752</td>\n",
       "      <td>33.792038</td>\n",
       "      <td>33.841385</td>\n",
       "      <td>110871600</td>\n",
       "      <td>0.0</td>\n",
       "      <td>0.0</td>\n",
       "      <td>-0.084595</td>\n",
       "    </tr>\n",
       "    <tr>\n",
       "      <th>3</th>\n",
       "      <td>2017-04-06 00:00:00-04:00</td>\n",
       "      <td>33.904823</td>\n",
       "      <td>33.958870</td>\n",
       "      <td>33.707443</td>\n",
       "      <td>33.756790</td>\n",
       "      <td>84596000</td>\n",
       "      <td>0.0</td>\n",
       "      <td>0.0</td>\n",
       "      <td>-0.075199</td>\n",
       "    </tr>\n",
       "    <tr>\n",
       "      <th>4</th>\n",
       "      <td>2017-04-07 00:00:00-04:00</td>\n",
       "      <td>33.773232</td>\n",
       "      <td>33.878971</td>\n",
       "      <td>33.665145</td>\n",
       "      <td>33.681591</td>\n",
       "      <td>66688800</td>\n",
       "      <td>0.0</td>\n",
       "      <td>0.0</td>\n",
       "      <td>-0.039940</td>\n",
       "    </tr>\n",
       "    <tr>\n",
       "      <th>...</th>\n",
       "      <td>...</td>\n",
       "      <td>...</td>\n",
       "      <td>...</td>\n",
       "      <td>...</td>\n",
       "      <td>...</td>\n",
       "      <td>...</td>\n",
       "      <td>...</td>\n",
       "      <td>...</td>\n",
       "      <td>...</td>\n",
       "    </tr>\n",
       "    <tr>\n",
       "      <th>1295</th>\n",
       "      <td>2022-05-24 00:00:00-04:00</td>\n",
       "      <td>140.381810</td>\n",
       "      <td>141.538287</td>\n",
       "      <td>136.912397</td>\n",
       "      <td>139.933182</td>\n",
       "      <td>104132700</td>\n",
       "      <td>0.0</td>\n",
       "      <td>0.0</td>\n",
       "      <td>0.159515</td>\n",
       "    </tr>\n",
       "    <tr>\n",
       "      <th>1296</th>\n",
       "      <td>2022-05-25 00:00:00-04:00</td>\n",
       "      <td>138.009041</td>\n",
       "      <td>141.358824</td>\n",
       "      <td>137.919318</td>\n",
       "      <td>140.092697</td>\n",
       "      <td>92482700</td>\n",
       "      <td>0.0</td>\n",
       "      <td>0.0</td>\n",
       "      <td>3.250076</td>\n",
       "    </tr>\n",
       "    <tr>\n",
       "      <th>1297</th>\n",
       "      <td>2022-05-26 00:00:00-04:00</td>\n",
       "      <td>136.972206</td>\n",
       "      <td>143.901068</td>\n",
       "      <td>136.722966</td>\n",
       "      <td>143.342773</td>\n",
       "      <td>90601500</td>\n",
       "      <td>0.0</td>\n",
       "      <td>0.0</td>\n",
       "      <td>5.842178</td>\n",
       "    </tr>\n",
       "    <tr>\n",
       "      <th>1298</th>\n",
       "      <td>2022-05-27 00:00:00-04:00</td>\n",
       "      <td>144.947876</td>\n",
       "      <td>149.224823</td>\n",
       "      <td>144.818266</td>\n",
       "      <td>149.184952</td>\n",
       "      <td>90978500</td>\n",
       "      <td>0.0</td>\n",
       "      <td>0.0</td>\n",
       "      <td>-0.797562</td>\n",
       "    </tr>\n",
       "    <tr>\n",
       "      <th>1299</th>\n",
       "      <td>2022-05-31 00:00:00-04:00</td>\n",
       "      <td>148.616702</td>\n",
       "      <td>150.201863</td>\n",
       "      <td>146.393472</td>\n",
       "      <td>148.387390</td>\n",
       "      <td>103718400</td>\n",
       "      <td>0.0</td>\n",
       "      <td>0.0</td>\n",
       "      <td>0.000000</td>\n",
       "    </tr>\n",
       "  </tbody>\n",
       "</table>\n",
       "<p>1300 rows × 9 columns</p>\n",
       "</div>"
      ],
      "text/plain": [
       "                          Date        Open        High         Low  \\\n",
       "0    2017-04-03 00:00:00-04:00   33.768538   33.864876   33.613452   \n",
       "1    2017-04-04 00:00:00-04:00   33.660439   34.045801   33.641640   \n",
       "2    2017-04-05 00:00:00-04:00   33.888380   34.179752   33.792038   \n",
       "3    2017-04-06 00:00:00-04:00   33.904823   33.958870   33.707443   \n",
       "4    2017-04-07 00:00:00-04:00   33.773232   33.878971   33.665145   \n",
       "...                        ...         ...         ...         ...   \n",
       "1295 2022-05-24 00:00:00-04:00  140.381810  141.538287  136.912397   \n",
       "1296 2022-05-25 00:00:00-04:00  138.009041  141.358824  137.919318   \n",
       "1297 2022-05-26 00:00:00-04:00  136.972206  143.901068  136.722966   \n",
       "1298 2022-05-27 00:00:00-04:00  144.947876  149.224823  144.818266   \n",
       "1299 2022-05-31 00:00:00-04:00  148.616702  150.201863  146.393472   \n",
       "\n",
       "           Close     Volume  Dividends  Stock Splits  FirstDifference  \n",
       "0      33.766186   79942800        0.0           0.0         0.251419  \n",
       "1      34.017605   79565600        0.0           0.0        -0.176220  \n",
       "2      33.841385  110871600        0.0           0.0        -0.084595  \n",
       "3      33.756790   84596000        0.0           0.0        -0.075199  \n",
       "4      33.681591   66688800        0.0           0.0        -0.039940  \n",
       "...          ...        ...        ...           ...              ...  \n",
       "1295  139.933182  104132700        0.0           0.0         0.159515  \n",
       "1296  140.092697   92482700        0.0           0.0         3.250076  \n",
       "1297  143.342773   90601500        0.0           0.0         5.842178  \n",
       "1298  149.184952   90978500        0.0           0.0        -0.797562  \n",
       "1299  148.387390  103718400        0.0           0.0         0.000000  \n",
       "\n",
       "[1300 rows x 9 columns]"
      ]
     },
     "execution_count": 425,
     "metadata": {},
     "output_type": "execute_result"
    }
   ],
   "source": [
    "first_diff = tickerDfResample.Close.values[1:]-tickerDfResample.Close.values[:-1]\n",
    "first_diff = np.concatenate([first_diff,[0]])\n",
    "tickerDfResample['FirstDifference'] = first_diff\n",
    "#tickerDf.Close.pct_change().dropna()\n",
    "tickerDfResample"
   ]
  },
  {
   "cell_type": "code",
   "execution_count": null,
   "id": "7f2f6411",
   "metadata": {},
   "outputs": [],
   "source": []
  },
  {
   "cell_type": "code",
   "execution_count": 426,
   "id": "a16a881e",
   "metadata": {},
   "outputs": [],
   "source": [
    "def ad_test(dataset):\n",
    "    dftest = adfuller(dataset,autolag = 'AIC')\n",
    "    print(\"1. ADF: \",dftest[0])\n",
    "    print(\"2. P_value: \",dftest[1])\n",
    "    print(\"3. num_lags: \",dftest[2])\n",
    "    print(\"4. : \",dftest[3])\n",
    "    print(\"5. crit_value: \",dftest[4])\n",
    "    for key,val in dftest[4].items():\n",
    "        print(\"\\t\",key,\": \",val)"
   ]
  },
  {
   "cell_type": "code",
   "execution_count": 427,
   "id": "7fef9d38",
   "metadata": {},
   "outputs": [
    {
     "name": "stdout",
     "output_type": "stream",
     "text": [
      "1. ADF:  -13.166533391930844\n",
      "2. P_value:  1.2756177910848635e-24\n",
      "3. num_lags:  7\n",
      "4. :  1292\n",
      "5. crit_value:  {'1%': -3.4354214704688113, '5%': -2.863779629316101, '10%': -2.567962394851863}\n",
      "\t 1% :  -3.4354214704688113\n",
      "\t 5% :  -2.863779629316101\n",
      "\t 10% :  -2.567962394851863\n"
     ]
    }
   ],
   "source": [
    "ad_test(tickerDfResample['FirstDifference'])"
   ]
  },
  {
   "cell_type": "code",
   "execution_count": null,
   "id": "babdd23a",
   "metadata": {},
   "outputs": [],
   "source": []
  },
  {
   "cell_type": "code",
   "execution_count": 428,
   "id": "36830d7d",
   "metadata": {},
   "outputs": [],
   "source": [
    "from pmdarima import auto_arima\n",
    "import warnings\n",
    "warnings.filterwarnings(\"ignore\")"
   ]
  },
  {
   "cell_type": "code",
   "execution_count": 429,
   "id": "7834bdce",
   "metadata": {},
   "outputs": [
    {
     "name": "stdout",
     "output_type": "stream",
     "text": [
      "Performing stepwise search to minimize aic\n",
      " ARIMA(2,1,2)(0,0,0)[0] intercept   : AIC=5313.795, Time=0.35 sec\n",
      " ARIMA(0,1,0)(0,0,0)[0] intercept   : AIC=5313.430, Time=0.02 sec\n",
      " ARIMA(1,1,0)(0,0,0)[0] intercept   : AIC=5309.022, Time=0.05 sec\n",
      " ARIMA(0,1,1)(0,0,0)[0] intercept   : AIC=5308.897, Time=0.08 sec\n",
      " ARIMA(0,1,0)(0,0,0)[0]             : AIC=5314.326, Time=0.02 sec\n",
      " ARIMA(1,1,1)(0,0,0)[0] intercept   : AIC=5310.616, Time=0.19 sec\n",
      " ARIMA(0,1,2)(0,0,0)[0] intercept   : AIC=5310.781, Time=0.13 sec\n",
      " ARIMA(1,1,2)(0,0,0)[0] intercept   : AIC=5312.582, Time=0.32 sec\n",
      " ARIMA(0,1,1)(0,0,0)[0]             : AIC=5310.265, Time=0.03 sec\n",
      "\n",
      "Best model:  ARIMA(0,1,1)(0,0,0)[0] intercept\n",
      "Total fit time: 1.202 seconds\n"
     ]
    },
    {
     "data": {
      "text/html": [
       "<table class=\"simpletable\">\n",
       "<caption>SARIMAX Results</caption>\n",
       "<tr>\n",
       "  <th>Dep. Variable:</th>           <td>y</td>        <th>  No. Observations:  </th>   <td>1300</td>   \n",
       "</tr>\n",
       "<tr>\n",
       "  <th>Model:</th>           <td>SARIMAX(0, 1, 1)</td> <th>  Log Likelihood     </th> <td>-2651.449</td>\n",
       "</tr>\n",
       "<tr>\n",
       "  <th>Date:</th>            <td>Mon, 23 Jan 2023</td> <th>  AIC                </th> <td>5308.897</td> \n",
       "</tr>\n",
       "<tr>\n",
       "  <th>Time:</th>                <td>21:48:11</td>     <th>  BIC                </th> <td>5324.405</td> \n",
       "</tr>\n",
       "<tr>\n",
       "  <th>Sample:</th>                  <td>0</td>        <th>  HQIC               </th> <td>5314.716</td> \n",
       "</tr>\n",
       "<tr>\n",
       "  <th></th>                      <td> - 1300</td>     <th>                     </th>     <td> </td>    \n",
       "</tr>\n",
       "<tr>\n",
       "  <th>Covariance Type:</th>        <td>opg</td>       <th>                     </th>     <td> </td>    \n",
       "</tr>\n",
       "</table>\n",
       "<table class=\"simpletable\">\n",
       "<tr>\n",
       "      <td></td>         <th>coef</th>     <th>std err</th>      <th>z</th>      <th>P>|z|</th>  <th>[0.025</th>    <th>0.975]</th>  \n",
       "</tr>\n",
       "<tr>\n",
       "  <th>intercept</th> <td>    0.0882</td> <td>    0.048</td> <td>    1.833</td> <td> 0.067</td> <td>   -0.006</td> <td>    0.183</td>\n",
       "</tr>\n",
       "<tr>\n",
       "  <th>ma.L1</th>     <td>   -0.0717</td> <td>    0.017</td> <td>   -4.106</td> <td> 0.000</td> <td>   -0.106</td> <td>   -0.037</td>\n",
       "</tr>\n",
       "<tr>\n",
       "  <th>sigma2</th>    <td>    3.4708</td> <td>    0.072</td> <td>   48.115</td> <td> 0.000</td> <td>    3.329</td> <td>    3.612</td>\n",
       "</tr>\n",
       "</table>\n",
       "<table class=\"simpletable\">\n",
       "<tr>\n",
       "  <th>Ljung-Box (L1) (Q):</th>     <td>0.00</td>  <th>  Jarque-Bera (JB):  </th> <td>1453.89</td>\n",
       "</tr>\n",
       "<tr>\n",
       "  <th>Prob(Q):</th>                <td>0.98</td>  <th>  Prob(JB):          </th>  <td>0.00</td>  \n",
       "</tr>\n",
       "<tr>\n",
       "  <th>Heteroskedasticity (H):</th> <td>15.46</td> <th>  Skew:              </th>  <td>-0.12</td> \n",
       "</tr>\n",
       "<tr>\n",
       "  <th>Prob(H) (two-sided):</th>    <td>0.00</td>  <th>  Kurtosis:          </th>  <td>8.18</td>  \n",
       "</tr>\n",
       "</table><br/><br/>Warnings:<br/>[1] Covariance matrix calculated using the outer product of gradients (complex-step)."
      ],
      "text/plain": [
       "<class 'statsmodels.iolib.summary.Summary'>\n",
       "\"\"\"\n",
       "                               SARIMAX Results                                \n",
       "==============================================================================\n",
       "Dep. Variable:                      y   No. Observations:                 1300\n",
       "Model:               SARIMAX(0, 1, 1)   Log Likelihood               -2651.449\n",
       "Date:                Mon, 23 Jan 2023   AIC                           5308.897\n",
       "Time:                        21:48:11   BIC                           5324.405\n",
       "Sample:                             0   HQIC                          5314.716\n",
       "                               - 1300                                         \n",
       "Covariance Type:                  opg                                         \n",
       "==============================================================================\n",
       "                 coef    std err          z      P>|z|      [0.025      0.975]\n",
       "------------------------------------------------------------------------------\n",
       "intercept      0.0882      0.048      1.833      0.067      -0.006       0.183\n",
       "ma.L1         -0.0717      0.017     -4.106      0.000      -0.106      -0.037\n",
       "sigma2         3.4708      0.072     48.115      0.000       3.329       3.612\n",
       "===================================================================================\n",
       "Ljung-Box (L1) (Q):                   0.00   Jarque-Bera (JB):              1453.89\n",
       "Prob(Q):                              0.98   Prob(JB):                         0.00\n",
       "Heteroskedasticity (H):              15.46   Skew:                            -0.12\n",
       "Prob(H) (two-sided):                  0.00   Kurtosis:                         8.18\n",
       "===================================================================================\n",
       "\n",
       "Warnings:\n",
       "[1] Covariance matrix calculated using the outer product of gradients (complex-step).\n",
       "\"\"\""
      ]
     },
     "execution_count": 429,
     "metadata": {},
     "output_type": "execute_result"
    }
   ],
   "source": [
    "stepwise_fit = auto_arima(tickerDfResample['Close'],trace=True,suppress_warnings=True)\n",
    "stepwise_fit.summary()"
   ]
  },
  {
   "cell_type": "code",
   "execution_count": null,
   "id": "afd5ad2a",
   "metadata": {},
   "outputs": [],
   "source": []
  },
  {
   "cell_type": "code",
   "execution_count": 491,
   "id": "14773656",
   "metadata": {},
   "outputs": [],
   "source": [
    "trainData = pd.DataFrame(tickerDfResample['Close'][600:700])\n",
    "testData = pd.DataFrame(tickerDfResample['Close'][700:710])"
   ]
  },
  {
   "cell_type": "code",
   "execution_count": 492,
   "id": "0e392b2d",
   "metadata": {},
   "outputs": [
    {
     "data": {
      "text/plain": [
       "(100, 10)"
      ]
     },
     "execution_count": 492,
     "metadata": {},
     "output_type": "execute_result"
    }
   ],
   "source": [
    "len(trainData),len(testData)"
   ]
  },
  {
   "cell_type": "code",
   "execution_count": null,
   "id": "5cdd6d9a",
   "metadata": {},
   "outputs": [],
   "source": []
  },
  {
   "cell_type": "code",
   "execution_count": 493,
   "id": "8a47fc2b",
   "metadata": {},
   "outputs": [],
   "source": [
    "#df.asfreq('W')\n",
    "#pd.infer_freq(trainData.index)"
   ]
  },
  {
   "cell_type": "code",
   "execution_count": 494,
   "id": "ae87290a",
   "metadata": {},
   "outputs": [],
   "source": [
    "model = ARIMA(trainData['Close'].values,order=(0,1,1))"
   ]
  },
  {
   "cell_type": "code",
   "execution_count": 495,
   "id": "f7823293",
   "metadata": {},
   "outputs": [],
   "source": [
    "modelFit = model.fit()"
   ]
  },
  {
   "cell_type": "code",
   "execution_count": 496,
   "id": "946c6711",
   "metadata": {},
   "outputs": [
    {
     "name": "stdout",
     "output_type": "stream",
     "text": [
      "                               SARIMAX Results                                \n",
      "==============================================================================\n",
      "Dep. Variable:                      y   No. Observations:                  100\n",
      "Model:                 ARIMA(0, 1, 1)   Log Likelihood                -117.918\n",
      "Date:                Mon, 23 Jan 2023   AIC                            239.837\n",
      "Time:                        21:55:18   BIC                            245.027\n",
      "Sample:                             0   HQIC                           241.937\n",
      "                                - 100                                         \n",
      "Covariance Type:                  opg                                         \n",
      "==============================================================================\n",
      "                 coef    std err          z      P>|z|      [0.025      0.975]\n",
      "------------------------------------------------------------------------------\n",
      "ma.L1          0.0680      0.116      0.586      0.558      -0.160       0.295\n",
      "sigma2         0.6340      0.096      6.637      0.000       0.447       0.821\n",
      "===================================================================================\n",
      "Ljung-Box (L1) (Q):                   0.99   Jarque-Bera (JB):                 3.04\n",
      "Prob(Q):                              0.32   Prob(JB):                         0.22\n",
      "Heteroskedasticity (H):               1.04   Skew:                            -0.37\n",
      "Prob(H) (two-sided):                  0.92   Kurtosis:                         3.43\n",
      "===================================================================================\n",
      "\n",
      "Warnings:\n",
      "[1] Covariance matrix calculated using the outer product of gradients (complex-step).\n"
     ]
    }
   ],
   "source": [
    "print(modelFit.summary())"
   ]
  },
  {
   "cell_type": "code",
   "execution_count": null,
   "id": "2ebf91ac",
   "metadata": {},
   "outputs": [],
   "source": []
  },
  {
   "cell_type": "code",
   "execution_count": 497,
   "id": "39ee7edb",
   "metadata": {},
   "outputs": [
    {
     "data": {
      "text/html": [
       "<div>\n",
       "<style scoped>\n",
       "    .dataframe tbody tr th:only-of-type {\n",
       "        vertical-align: middle;\n",
       "    }\n",
       "\n",
       "    .dataframe tbody tr th {\n",
       "        vertical-align: top;\n",
       "    }\n",
       "\n",
       "    .dataframe thead th {\n",
       "        text-align: right;\n",
       "    }\n",
       "</style>\n",
       "<table border=\"1\" class=\"dataframe\">\n",
       "  <thead>\n",
       "    <tr style=\"text-align: right;\">\n",
       "      <th></th>\n",
       "      <th>Close</th>\n",
       "    </tr>\n",
       "  </thead>\n",
       "  <tbody>\n",
       "    <tr>\n",
       "      <th>700</th>\n",
       "      <td>76.581406</td>\n",
       "    </tr>\n",
       "    <tr>\n",
       "      <th>701</th>\n",
       "      <td>76.253204</td>\n",
       "    </tr>\n",
       "    <tr>\n",
       "      <th>702</th>\n",
       "      <td>77.208389</td>\n",
       "    </tr>\n",
       "    <tr>\n",
       "      <th>703</th>\n",
       "      <td>78.063141</td>\n",
       "    </tr>\n",
       "    <tr>\n",
       "      <th>704</th>\n",
       "      <td>77.534126</td>\n",
       "    </tr>\n",
       "    <tr>\n",
       "      <th>705</th>\n",
       "      <td>77.810890</td>\n",
       "    </tr>\n",
       "    <tr>\n",
       "      <th>706</th>\n",
       "      <td>78.185623</td>\n",
       "    </tr>\n",
       "    <tr>\n",
       "      <th>707</th>\n",
       "      <td>77.960297</td>\n",
       "    </tr>\n",
       "    <tr>\n",
       "      <th>708</th>\n",
       "      <td>75.667847</td>\n",
       "    </tr>\n",
       "    <tr>\n",
       "      <th>709</th>\n",
       "      <td>77.808434</td>\n",
       "    </tr>\n",
       "  </tbody>\n",
       "</table>\n",
       "</div>"
      ],
      "text/plain": [
       "         Close\n",
       "700  76.581406\n",
       "701  76.253204\n",
       "702  77.208389\n",
       "703  78.063141\n",
       "704  77.534126\n",
       "705  77.810890\n",
       "706  78.185623\n",
       "707  77.960297\n",
       "708  75.667847\n",
       "709  77.808434"
      ]
     },
     "execution_count": 497,
     "metadata": {},
     "output_type": "execute_result"
    }
   ],
   "source": [
    "testData"
   ]
  },
  {
   "cell_type": "code",
   "execution_count": 498,
   "id": "42a7b512",
   "metadata": {},
   "outputs": [
    {
     "data": {
      "text/plain": [
       "[<matplotlib.lines.Line2D at 0x2a5b718bbb0>]"
      ]
     },
     "execution_count": 498,
     "metadata": {},
     "output_type": "execute_result"
    },
    {
     "data": {
      "image/png": "[encoded data removed]",
      "text/plain": [
       "<Figure size 640x480 with 1 Axes>"
      ]
     },
     "metadata": {},
     "output_type": "display_data"
    }
   ],
   "source": [
    "pred = modelFit.predict(start = len(trainData) ,end =  len(trainData)+len(testData)-1) # predcits via index weirdly\n",
    "pred_train = modelFit.predict(start = 0 ,end =  len(trainData)-1) # predcits via index weirdly\n",
    "futureForcast = modelFit.forecast(100)\n",
    "testData['Predictions'] = pred\n",
    "trainData['Predictions'] = pred_train\n",
    "\n",
    "#plt.plot(trainData['Predictions'])\n",
    "#plt.plot(trainData['Close'])\n",
    "\n",
    "plt.plot(testData['Predictions'],\"-ro\")\n",
    "plt.plot(testData['Close'],\"-go\")\n",
    "#plt.plot(futureForcast)"
   ]
  },
  {
   "cell_type": "code",
   "execution_count": 877,
   "id": "68ee6766",
   "metadata": {},
   "outputs": [],
   "source": [
    "#pred.index = pd.to_datetime(pred.index, format = '%m/%d/%Y').strftime('%m/%d/%Y')"
   ]
  },
  {
   "cell_type": "code",
   "execution_count": 303,
   "id": "81b8eece",
   "metadata": {},
   "outputs": [
    {
     "ename": "AttributeError",
     "evalue": "'ARIMAResults' object has no attribute 'plot_predict'",
     "output_type": "error",
     "traceback": [
      "\u001b[1;31m---------------------------------------------------------------------------\u001b[0m",
      "\u001b[1;31mAttributeError\u001b[0m                            Traceback (most recent call last)",
      "Cell \u001b[1;32mIn [303], line 1\u001b[0m\n\u001b[1;32m----> 1\u001b[0m \u001b[43mmodelFit\u001b[49m\u001b[38;5;241;43m.\u001b[39;49m\u001b[43mplot_predict\u001b[49m()\n",
      "File \u001b[1;32m~\\AppData\\Local\\Programs\\Python\\Python310\\lib\\site-packages\\statsmodels\\base\\wrapper.py:34\u001b[0m, in \u001b[0;36mResultsWrapper.__getattribute__\u001b[1;34m(self, attr)\u001b[0m\n\u001b[0;32m     31\u001b[0m \u001b[38;5;28;01mexcept\u001b[39;00m \u001b[38;5;167;01mAttributeError\u001b[39;00m:\n\u001b[0;32m     32\u001b[0m     \u001b[38;5;28;01mpass\u001b[39;00m\n\u001b[1;32m---> 34\u001b[0m obj \u001b[38;5;241m=\u001b[39m \u001b[38;5;28;43mgetattr\u001b[39;49m\u001b[43m(\u001b[49m\u001b[43mresults\u001b[49m\u001b[43m,\u001b[49m\u001b[43m \u001b[49m\u001b[43mattr\u001b[49m\u001b[43m)\u001b[49m\n\u001b[0;32m     35\u001b[0m data \u001b[38;5;241m=\u001b[39m results\u001b[38;5;241m.\u001b[39mmodel\u001b[38;5;241m.\u001b[39mdata\n\u001b[0;32m     36\u001b[0m how \u001b[38;5;241m=\u001b[39m \u001b[38;5;28mself\u001b[39m\u001b[38;5;241m.\u001b[39m_wrap_attrs\u001b[38;5;241m.\u001b[39mget(attr)\n",
      "\u001b[1;31mAttributeError\u001b[0m: 'ARIMAResults' object has no attribute 'plot_predict'"
     ]
    }
   ],
   "source": [
    "modelFit.plot_predict()"
   ]
  },
  {
   "cell_type": "code",
   "execution_count": null,
   "id": "6cddd779",
   "metadata": {},
   "outputs": [],
   "source": [
    "#arima is predicting as best it can , and its best is simply a straight line for this data set"
   ]
  }
 ],
 "metadata": {
  "kernelspec": {
   "display_name": "Python 3 (ipykernel)",
   "language": "python",
   "name": "python3"
  },
  "language_info": {
   "codemirror_mode": {
    "name": "ipython",
    "version": 3
   },
   "file_extension": ".py",
   "mimetype": "text/x-python",
   "name": "python",
   "nbconvert_exporter": "python",
   "pygments_lexer": "ipython3",
   "version": "3.10.8"
  }
 },
 "nbformat": 4,
 "nbformat_minor": 5
}
